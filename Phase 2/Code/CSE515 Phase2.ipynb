{
 "cells": [
  {
   "cell_type": "code",
   "execution_count": 1,
   "id": "a2f42019",
   "metadata": {},
   "outputs": [],
   "source": [
    "# Import necessary libraries\n",
    "\n",
    "import numpy as np\n",
    "import pandas as pd\n",
    "import matplotlib.pyplot as plt\n",
    "import seaborn as sns\n",
    "import sklearn\n",
    "import cv2\n",
    "import os\n",
    "import shutil\n",
    "import pickle\n",
    "\n",
    "# Import necessary functions\n",
    "\n",
    "from keras.preprocessing import image\n",
    "from sklearn.preprocessing import normalize\n",
    "from skimage.io import imshow\n",
    "from skimage.feature import local_binary_pattern, hog\n",
    "from skimage import exposure\n",
    "from scipy.stats import skew\n",
    "from sklearn.decomposition import LatentDirichletAllocation\n",
    "from sklearn.decomposition import TruncatedSVD\n",
    "from sklearn.cluster import KMeans\n",
    "from scipy.spatial.distance import cdist, euclidean\n",
    "\n",
    "%matplotlib inline"
   ]
  },
  {
   "cell_type": "markdown",
   "id": "6b798000",
   "metadata": {},
   "source": [
    "## Helper functions"
   ]
  },
  {
   "cell_type": "code",
   "execution_count": 2,
   "id": "318ded13",
   "metadata": {},
   "outputs": [],
   "source": [
    "# Slice 64 x 64 image into 64 vectors of 8 x 8\n",
    "# Helper Function\n",
    "\n",
    "def slice_channel(channel):\n",
    "    \n",
    "    slices = []\n",
    "    r = 0\n",
    "    while r < channel.shape[0]:\n",
    "        c = 0\n",
    "        while c < channel.shape[1]:\n",
    "            channel_slice = channel[r:r + 8, c:c + 8]\n",
    "            slices.append(channel_slice)\n",
    "            c = c + 8\n",
    "        r = r + 8\n",
    "        \n",
    "    return slices"
   ]
  },
  {
   "cell_type": "code",
   "execution_count": 3,
   "id": "5af36192",
   "metadata": {},
   "outputs": [],
   "source": [
    "# This function calculates the mean of the 8X8 matrix provided as slices\n",
    "def calculate_first_moment(channel):\n",
    "    \n",
    "    return np.mean(channel)\n",
    "\n",
    "# This function calculates the standard deviation of the 8X8 matrix provided as slices\n",
    "def calculate_second_moment(channel):\n",
    "    \n",
    "    return np.std(channel)\n",
    "\n",
    "\n",
    "# This function calculates the skewness of the 8X8 matrix provided as slices\n",
    "def calculate_third_moment(channel):\n",
    "    \n",
    "    # Flatten the array, and calculate the skewness\n",
    "    return abs(skew(np.ndarray.flatten(channel), 0))"
   ]
  },
  {
   "cell_type": "code",
   "execution_count": 4,
   "id": "e9191520",
   "metadata": {},
   "outputs": [],
   "source": [
    "# This function takes a sliced image as input and returns color moments of shape 8 x 8 x 3\n",
    "\n",
    "def calculate_CM(img):\n",
    "    \n",
    "    sliced_image = slice_channel(img)\n",
    "    color_m = []\n",
    "    #iterating each 8X8 matrix 64 times for each image\n",
    "    for i in sliced_image:\n",
    "        color_temp =[]\n",
    "        #append color moments to a temporary array\n",
    "        color_temp.append(calculate_first_moment(i))\n",
    "        color_temp.append(calculate_second_moment(i))\n",
    "        color_temp.append(calculate_third_moment(i))\n",
    "        #append temporary array to final color moments of all images\n",
    "        color_m.append(color_temp)\n",
    "        \n",
    "    return np.array(color_m).reshape(8,8,3)"
   ]
  },
  {
   "cell_type": "code",
   "execution_count": 5,
   "id": "10337fa5",
   "metadata": {},
   "outputs": [],
   "source": [
    "# This function extracts local binary patterns for images with 8 neighbors\n",
    "\n",
    "def calculate_LBP(img):\n",
    "    \n",
    "    lbp_features=[]\n",
    "    lbp = local_binary_pattern(img, 8, 1, 'ror')\n",
    "    hist, edges = np.histogram(lbp, bins = 256, range = (0.0, 255.0))\n",
    "    hist = hist.astype(\"float\")\n",
    "    hist = hist/(hist.sum() + 1e-7)\n",
    "    lbp_features.append(hist.tolist())\n",
    "    \n",
    "    return np.array(lbp_features).reshape(256)"
   ]
  },
  {
   "cell_type": "code",
   "execution_count": 6,
   "id": "59c04190",
   "metadata": {},
   "outputs": [],
   "source": [
    "# This function calculates HOG for each image\n",
    "\n",
    "def calculate_HOG(img):\n",
    "    \n",
    "    hog_features=[]\n",
    "    fd, hog_img = hog(img, orientations=9, pixels_per_cell=(8, 8), visualize=True, cells_per_block=(2, 2), block_norm='L2-Hys')\n",
    "    hog_features.append(fd)\n",
    "    \n",
    "    return fd"
   ]
  },
  {
   "cell_type": "code",
   "execution_count": 7,
   "id": "ed68bfb6",
   "metadata": {},
   "outputs": [],
   "source": [
    "# This Function reduces dimensions using SVD\n",
    "\n",
    "def do_svd(data_mat, k):\n",
    "    \n",
    "    u, s, vt = np.linalg.svd(data_mat, full_matrices=True)\n",
    "    u = u[:, :k]\n",
    "    vt = vt[:k, :]\n",
    "    #here returning the u that is latent semantic (n,k) and s which is n eigen values\n",
    "    return [u, vt]"
   ]
  },
  {
   "cell_type": "code",
   "execution_count": 8,
   "id": "94cb4392",
   "metadata": {},
   "outputs": [
    {
     "data": {
      "text/plain": [
       "'def do_svd(data_mat,k): \\n    \\n    DDTranspose=np.matmul(data_mat,data_mat.T)\\n    DTransposeD=np.matmul(data_mat.T,data_mat)\\n    \\n    eigen_values_DDT , eigen_vectors_DDT = np.linalg.eigh(DDTranspose)\\n    eigen_values_DTD , eigen_vectors_DTD = np.linalg.eigh(DTransposeD)\\n    \\n    #sort the eigenvalues_DDT in descending order\\n    sorted_index_DDT = np.argsort(eigen_values_DDT)[::-1]\\n    sorted_eigenvalue_DDT = eigen_values_DDT[sorted_index_DDT]\\n    #similarly sort the eigenvectors \\n    sorted_eigenvectors_DDT = eigen_vectors_DDT[:,sorted_index_DDT]\\n    eigenvector_subset_DDT = sorted_eigenvectors_DDT[:,0:k]\\n    \\n    #sort the eigenvalues_DTD in descending order\\n    sorted_index_DTD = np.argsort(eigen_values_DTD)[::-1]\\n    sorted_eigenvalue_DTD = eigen_values_DTD[sorted_index_DTD]\\n    #similarly sort the eigenvectors \\n    sorted_eigenvectors_DTD = eigen_vectors_DTD[:,sorted_index_DTD]\\n    eigenvector_subset_DTD = sorted_eigenvectors_DTD[:,0:k]\\n    LS = np.identity(k)\\n    for i in range(k):\\n        LS[i][i] = sorted_eigenvalue_DTD[i]\\n    \\n    return [eigenvector_subset_DDT, np.sqrt(LS)]'"
      ]
     },
     "execution_count": 8,
     "metadata": {},
     "output_type": "execute_result"
    }
   ],
   "source": [
    "\"\"\"def do_svd(data_mat,k): \n",
    "    \n",
    "    DDTranspose=np.matmul(data_mat,data_mat.T)\n",
    "    DTransposeD=np.matmul(data_mat.T,data_mat)\n",
    "    \n",
    "    eigen_values_DDT , eigen_vectors_DDT = np.linalg.eigh(DDTranspose)\n",
    "    eigen_values_DTD , eigen_vectors_DTD = np.linalg.eigh(DTransposeD)\n",
    "    \n",
    "    #sort the eigenvalues_DDT in descending order\n",
    "    sorted_index_DDT = np.argsort(eigen_values_DDT)[::-1]\n",
    "    sorted_eigenvalue_DDT = eigen_values_DDT[sorted_index_DDT]\n",
    "    #similarly sort the eigenvectors \n",
    "    sorted_eigenvectors_DDT = eigen_vectors_DDT[:,sorted_index_DDT]\n",
    "    eigenvector_subset_DDT = sorted_eigenvectors_DDT[:,0:k]\n",
    "    \n",
    "    #sort the eigenvalues_DTD in descending order\n",
    "    sorted_index_DTD = np.argsort(eigen_values_DTD)[::-1]\n",
    "    sorted_eigenvalue_DTD = eigen_values_DTD[sorted_index_DTD]\n",
    "    #similarly sort the eigenvectors \n",
    "    sorted_eigenvectors_DTD = eigen_vectors_DTD[:,sorted_index_DTD]\n",
    "    eigenvector_subset_DTD = sorted_eigenvectors_DTD[:,0:k]\n",
    "    LS = np.identity(k)\n",
    "    for i in range(k):\n",
    "        LS[i][i] = sorted_eigenvalue_DTD[i]\n",
    "    \n",
    "    return [eigenvector_subset_DDT, np.sqrt(LS)]\"\"\""
   ]
  },
  {
   "cell_type": "code",
   "execution_count": 9,
   "id": "27bb767e",
   "metadata": {},
   "outputs": [],
   "source": [
    "# This Function reduces dimensions using PCA\n",
    "\n",
    "def do_pca(data_mat,k): \n",
    "    \n",
    "    X_meaned = data_mat - np.mean(data_mat , axis = 0)\n",
    "    cov_mat = np.cov(X_meaned , rowvar = False)\n",
    "    eigen_values , eigen_vectors = np.linalg.eig(cov_mat)\n",
    "    #sort the eigenvalues in descending order\n",
    "    sorted_index = np.argsort(eigen_values)[::-1]\n",
    "    sorted_eigenvalue = eigen_values[sorted_index]\n",
    "    #similarly sort the eigenvectors \n",
    "    sorted_eigenvectors = eigen_vectors[:,sorted_index]\n",
    "    eigenvector_subset = sorted_eigenvectors[:,0:k]\n",
    "    #transformed data into lower dimensions\n",
    "    X_reduced = np.dot(eigenvector_subset.transpose(),X_meaned.transpose()).transpose()\n",
    "    #here returning the eigenvector_subset that is latent semantic (n,k) and sorted_eigenvalue which is n eigen values \n",
    "    \n",
    "    return [X_reduced,eigenvector_subset.T]"
   ]
  },
  {
   "cell_type": "code",
   "execution_count": 10,
   "id": "c4f6b4dd",
   "metadata": {},
   "outputs": [],
   "source": [
    "# This Function reduces dimensions using LDA\n",
    "\n",
    "def do_lda(data_mat, k):\n",
    "    \n",
    "    lda = LatentDirichletAllocation(n_components=k, batch_size = 10)\n",
    "    lda_f = lda.fit(data_mat)\n",
    "    lda_weights = lda_f.transform(data_mat)\n",
    "    \n",
    "    return [lda_weights, lda_f.components_] # U, Vt"
   ]
  },
  {
   "cell_type": "code",
   "execution_count": 11,
   "id": "fbe52133",
   "metadata": {},
   "outputs": [],
   "source": [
    "# This Function reduces dimensions using k-Means\n",
    "\n",
    "def do_kmeans(data_mat, k):\n",
    "    \n",
    "    kmeans = KMeans(n_clusters=k).fit(np.array(data_mat).T)\n",
    "    centroids = kmeans.cluster_centers_\n",
    "\n",
    "    return [np.array(centroids).T]"
   ]
  },
  {
   "cell_type": "code",
   "execution_count": 12,
   "id": "eb41f4be",
   "metadata": {},
   "outputs": [],
   "source": [
    "# This Function returns dimenionally reduced data\n",
    "\n",
    "def reduce_dims(data_mat, k, DR):\n",
    "    if DR == 'PCA':\n",
    "        return do_pca(data_mat, k)\n",
    "    elif DR == 'SVD':\n",
    "        return do_svd(data_mat, k)\n",
    "    elif DR == 'LDA':\n",
    "        return do_lda(data_mat, k)\n",
    "    elif DR == 'kmeans':\n",
    "        return do_kmeans(data_mat, k)\n",
    "    else:\n",
    "        print(\"Please select a valid method\")"
   ]
  },
  {
   "cell_type": "code",
   "execution_count": 13,
   "id": "d07fc45e",
   "metadata": {},
   "outputs": [],
   "source": [
    "#This function saves and retrieves objects\n",
    "\n",
    "def save_obj(obj, fname):\n",
    "    file_df = open(fname, 'wb') \n",
    "    pickle.dump(obj, file_df)\n",
    "\n",
    "def retrieve_obj(fname):\n",
    "    file_df = open(fname, 'rb') \n",
    "    df = pickle.load(file_df)\n",
    "    return df"
   ]
  },
  {
   "cell_type": "code",
   "execution_count": 14,
   "id": "d9d23f00",
   "metadata": {},
   "outputs": [],
   "source": [
    "# This function extracts features from images based on model provided\n",
    "\n",
    "def extract_feature(input_img, model):\n",
    "    \n",
    "    if model == 'CM':\n",
    "        return calculate_CM(input_img).flatten() \n",
    "    elif model == 'ELBP':\n",
    "        return calculate_LBP(input_img)\n",
    "    elif model == 'HOG':\n",
    "        return calculate_HOG(input_img).flatten()\n",
    "    else:\n",
    "        print('Please enter a valid model')"
   ]
  },
  {
   "cell_type": "code",
   "execution_count": 15,
   "id": "5d7e86ff",
   "metadata": {},
   "outputs": [],
   "source": [
    "def db_feature_extraction(FM):\n",
    "    \n",
    "    #retrieving all images in database\n",
    "    os.chdir(obj_path)\n",
    "    db=retrieve_obj('image_data_all_u.obj')\n",
    "    #constructing new dict with keys name of images and values as its extracted features\n",
    "    db_feature=dict.fromkeys(list(db.keys()))\n",
    "    for key,value in db.items():\n",
    "        db_feature[key]=extract_feature(value,FM)\n",
    "        \n",
    "    return db_feature"
   ]
  },
  {
   "cell_type": "code",
   "execution_count": 16,
   "id": "6755e196",
   "metadata": {},
   "outputs": [],
   "source": [
    "def LS_extract(ans):\n",
    "    LS={}\n",
    "    for i in range(len(ans)):\n",
    "        temp = ans[i]\n",
    "        dic={}\n",
    "        for j in range(len(temp)):\n",
    "            dic[j] = temp[j]\n",
    "\n",
    "        sorted_values = list(reversed(sorted(dic.values()))) # Sort the values\n",
    "        sorted_dict = {}\n",
    "\n",
    "        for j in range(len(sorted_values)):\n",
    "            for k in dic.keys():\n",
    "                if dic[k] == sorted_values[j]:\n",
    "                    sorted_dict[k] = dic[k]\n",
    "                    break\n",
    "        LS[i] = sorted_dict\n",
    "    return LS"
   ]
  },
  {
   "cell_type": "code",
   "execution_count": 17,
   "id": "4056dc0f",
   "metadata": {},
   "outputs": [],
   "source": [
    "def create_LS(nm, LS_dic):\n",
    "    latent_sem = open(nm, \"w+\")\n",
    "    for i in range(len(LS_dic.keys())):\n",
    "        latent_sem.write('\\nLS:' + str(i+1) + '\\n')\n",
    "        latent_sem.write(str(LS_dic[i]) + '\\n')\n",
    "    latent_sem.close() \n",
    "    print('\\nLatent Semantic file created : ',nm)"
   ]
  },
  {
   "cell_type": "code",
   "execution_count": 76,
   "id": "a0cde2a5",
   "metadata": {},
   "outputs": [],
   "source": [
    "def compute_sub_sub(FM):\n",
    "    \n",
    "    os.chdir(obj_path)\n",
    "    ss_cm = retrieve_obj('sub_sub_'+FM+'.obj')\n",
    "    ss=[]\n",
    "    for i in ss_cm.values():\n",
    "        b=[]\n",
    "        for j in ss_cm.values():\n",
    "            b.append(abs(sum(np.array(i) - np.array(j))))\n",
    "        ss.append(b)\n",
    "\n",
    "    sub_sub = np.array(ss)\n",
    "\n",
    "    for index, i in enumerate(sub_sub):\n",
    "        min_array = sorted(i)[1:n]\n",
    "\n",
    "        for index2, _ in enumerate(i):\n",
    "            if _ not in min_array:\n",
    "                sub_sub[index, index2] = 0\n",
    "\n",
    "    return sub_sub\n"
   ]
  },
  {
   "cell_type": "code",
   "execution_count": 18,
   "id": "860beaf4",
   "metadata": {},
   "outputs": [],
   "source": [
    "def feature_extract_t1(FM, X):\n",
    "    \n",
    "    os.chdir(obj_path)\n",
    "    data = retrieve_obj('image_data_all_u.obj')\n",
    "    \n",
    "    dic={}\n",
    "    for i in data.keys():\n",
    "        _, X_t, Y, Z = i.split(\"-\")\n",
    "        Z = Z.split(\".\")[0]\n",
    "        \n",
    "        if X_t == X:\n",
    "            if Y in dic.keys():\n",
    "                dic[Y].append(data[i])\n",
    "            else:\n",
    "                dic[Y] = [data[i]]\n",
    "          \n",
    "    fin = {}\n",
    "    for j in dic.keys():\n",
    "        temp=[]\n",
    "        for kj in dic[j]:\n",
    "            if FM == \"CM\" :\n",
    "                temp.append(calculate_CM(kj).flatten())\n",
    "            elif FM == 'ELBP':\n",
    "                temp.append(calculate_LBP(kj))\n",
    "            elif FM == 'HOG':\n",
    "                temp.append(calculate_HOG(kj).flatten())\n",
    "                \n",
    "        #print(np.array(temp).shape)\n",
    "        fin[j] = np.array(temp).mean(axis=0)\n",
    "    return fin"
   ]
  },
  {
   "cell_type": "code",
   "execution_count": 19,
   "id": "6c6dd964",
   "metadata": {},
   "outputs": [],
   "source": [
    "def feature_extract_t2(FM, Y):\n",
    "    \n",
    "    os.chdir(obj_path)\n",
    "    data = retrieve_obj('image_data_all_u.obj')\n",
    "\n",
    "    dic={}    \n",
    "    for i in data.keys():\n",
    "        _, X, Y_t, Z = i.split(\"-\")\n",
    "        Z = Z.split(\".\")[0]\n",
    "\n",
    "        if Y_t == Y:\n",
    "            if X in dic.keys():\n",
    "                dic[X].append(data[i])\n",
    "            else:\n",
    "                dic[X] = [data[i]]\n",
    "          \n",
    "    fin = {}\n",
    "    for j in dic.keys():\n",
    "        temp=[]\n",
    "        for kj in dic[j]:\n",
    "            if FM == \"CM\" :\n",
    "                temp.append(calculate_CM(kj).flatten())\n",
    "            elif FM == 'ELBP':\n",
    "                temp.append(calculate_LBP(kj))\n",
    "            elif FM == 'HOG':\n",
    "                temp.append(calculate_HOG(kj).flatten())\n",
    "        fin[j] = np.array(temp).mean(axis=0)\n",
    "    \n",
    "    return fin"
   ]
  },
  {
   "cell_type": "code",
   "execution_count": 20,
   "id": "9b80e067",
   "metadata": {},
   "outputs": [
    {
     "data": {
      "text/plain": [
       "'def feature_extract_t3(FM):\\n\\n    os.chdir(obj_path)\\n    data = retrieve_obj(\\'image_data_all.obj\\')\\n\\n    tt_arr={}\\n\\n    for im_k, im_v in data.items():      \\n\\n        _, X, Y, Z = im_k.split(\"-\")\\n        Z = Z.split(\".\")[0]\\n\\n        if X in tt_arr.keys():\\n            if int(Z) != 10:\\n                if FM == \\'CM\\':\\n                    tt_arr[X]+=list(calculate_CM(im_v).flatten())\\n                elif FM == \\'ELBP\\':\\n                    tt_arr[X]+=list(calculate_LBP(im_v))\\n                elif FM == \\'HOG\\':\\n                    tt_arr[X]+=list(calculate_HOG(im_v).flatten())\\n        else:\\n            if FM == \\'CM\\':\\n                tt_arr[X]=list(calculate_CM(im_v).flatten())\\n            elif FM == \\'ELBP\\':\\n                tt_arr[X]=list(calculate_LBP(im_v))\\n            elif FM == \\'HOG\\':\\n                tt_arr[X]=list(calculate_HOG(im_v).flatten())\\n    return tt_arr\\n\\nans = feature_extract_t3(\\'CM\\')\\n\\nsave_obj(ans, \\'type_type_CM.obj\\')'"
      ]
     },
     "execution_count": 20,
     "metadata": {},
     "output_type": "execute_result"
    }
   ],
   "source": [
    "## This needs to be executed only once to calculate type-type similarity matrix for each color model\n",
    "\n",
    "\"\"\"def feature_extract_t3(FM):\n",
    "\n",
    "    os.chdir(obj_path)\n",
    "    data = retrieve_obj('image_data_all.obj')\n",
    "\n",
    "    tt_arr={}\n",
    "\n",
    "    for im_k, im_v in data.items():      \n",
    "\n",
    "        _, X, Y, Z = im_k.split(\"-\")\n",
    "        Z = Z.split(\".\")[0]\n",
    "\n",
    "        if X in tt_arr.keys():\n",
    "            if int(Z) != 10:\n",
    "                if FM == 'CM':\n",
    "                    tt_arr[X]+=list(calculate_CM(im_v).flatten())\n",
    "                elif FM == 'ELBP':\n",
    "                    tt_arr[X]+=list(calculate_LBP(im_v))\n",
    "                elif FM == 'HOG':\n",
    "                    tt_arr[X]+=list(calculate_HOG(im_v).flatten())\n",
    "        else:\n",
    "            if FM == 'CM':\n",
    "                tt_arr[X]=list(calculate_CM(im_v).flatten())\n",
    "            elif FM == 'ELBP':\n",
    "                tt_arr[X]=list(calculate_LBP(im_v))\n",
    "            elif FM == 'HOG':\n",
    "                tt_arr[X]=list(calculate_HOG(im_v).flatten())\n",
    "    return tt_arr\n",
    "\n",
    "ans = feature_extract_t3('CM')\n",
    "\n",
    "save_obj(ans, 'type_type_CM.obj')\"\"\""
   ]
  },
  {
   "cell_type": "code",
   "execution_count": 21,
   "id": "5258de83",
   "metadata": {},
   "outputs": [
    {
     "data": {
      "text/plain": [
       "'\\ndef feature_extract_t4(FM):\\n\\n    os.chdir(obj_path)\\n    data = retrieve_obj(\\'image_data_all.obj\\')\\n\\n    ss_arr={}\\n\\n    for im_k, im_v in data.items():      \\n\\n        _, X, Y, Z = im_k.split(\"-\")\\n        Z = Z.split(\".\")[0]\\n\\n        if Y in ss_arr.keys():\\n            if int(Z) != 10:\\n                if FM == \\'CM\\':\\n                    ss_arr[Y]+=list(calculate_CM(im_v).flatten())\\n                elif FM == \\'ELBP\\':\\n                    ss_arr[Y]+=list(calculate_LBP(im_v))\\n                elif FM == \\'HOG\\':\\n                    ss_arr[Y]+=list(calculate_HOG(im_v).flatten())\\n        else:\\n            if FM == \\'CM\\':\\n                ss_arr[Y]=list(calculate_CM(im_v).flatten())\\n            elif FM == \\'ELBP\\':\\n                ss_arr[Y]=list(calculate_LBP(im_v))\\n            elif FM == \\'HOG\\':\\n                ss_arr[Y]=list(calculate_HOG(im_v).flatten())\\n    return ss_arr\\n\\nans = feature_extract_t4(\\'HOG\\')\\n\\n#save_obj(ans, \\'sub_sub_HOG.obj\\')'"
      ]
     },
     "execution_count": 21,
     "metadata": {},
     "output_type": "execute_result"
    }
   ],
   "source": [
    "## This needs to be executed only once to calculate subject-subject similarity matrix for each color model\n",
    "\n",
    "\"\"\"\n",
    "def feature_extract_t4(FM):\n",
    "\n",
    "    os.chdir(obj_path)\n",
    "    data = retrieve_obj('image_data_all.obj')\n",
    "\n",
    "    ss_arr={}\n",
    "\n",
    "    for im_k, im_v in data.items():      \n",
    "\n",
    "        _, X, Y, Z = im_k.split(\"-\")\n",
    "        Z = Z.split(\".\")[0]\n",
    "\n",
    "        if Y in ss_arr.keys():\n",
    "            if int(Z) != 10:\n",
    "                if FM == 'CM':\n",
    "                    ss_arr[Y]+=list(calculate_CM(im_v).flatten())\n",
    "                elif FM == 'ELBP':\n",
    "                    ss_arr[Y]+=list(calculate_LBP(im_v))\n",
    "                elif FM == 'HOG':\n",
    "                    ss_arr[Y]+=list(calculate_HOG(im_v).flatten())\n",
    "        else:\n",
    "            if FM == 'CM':\n",
    "                ss_arr[Y]=list(calculate_CM(im_v).flatten())\n",
    "            elif FM == 'ELBP':\n",
    "                ss_arr[Y]=list(calculate_LBP(im_v))\n",
    "            elif FM == 'HOG':\n",
    "                ss_arr[Y]=list(calculate_HOG(im_v).flatten())\n",
    "    return ss_arr\n",
    "\n",
    "ans = feature_extract_t4('HOG')\n",
    "\n",
    "#save_obj(ans, 'sub_sub_HOG.obj')\"\"\""
   ]
  },
  {
   "cell_type": "code",
   "execution_count": 22,
   "id": "9dac0afb",
   "metadata": {},
   "outputs": [],
   "source": [
    "def feature_extract_t6(FM, Y):\n",
    "    \n",
    "    os.chdir(obj_path)\n",
    "    data = retrieve_obj('image_data_all_u.obj')\n",
    "\n",
    "    dic={}    \n",
    "    for i in data.keys():\n",
    "        _, X, Y_t, Z = i.split(\"-\")\n",
    "        Z = Z.split(\".\")[0]\n",
    "\n",
    "        if Y_t == Y:\n",
    "            if X in dic.keys():\n",
    "                dic[X].append(data[i])\n",
    "            else:\n",
    "                dic[X] = [data[i]]\n",
    "          \n",
    "    fin = {}\n",
    "    for j in dic.keys():\n",
    "        temp=[]\n",
    "        for kj in dic[j]:\n",
    "            if FM == \"CM\" :\n",
    "                temp.append(calculate_CM(kj).flatten())\n",
    "            elif FM == 'ELBP':\n",
    "                temp.append(calculate_LBP(kj))\n",
    "            elif FM == 'HOG':\n",
    "                temp.append(calculate_HOG(kj).flatten())\n",
    "        fin[j] = np.array(temp).mean(axis=0)\n",
    "    \n",
    "    return fin"
   ]
  },
  {
   "cell_type": "code",
   "execution_count": 23,
   "id": "b4530755",
   "metadata": {},
   "outputs": [],
   "source": [
    "def feature_extract_t7(FM, X):\n",
    "    \n",
    "    os.chdir(obj_path)\n",
    "    data = retrieve_obj('image_data_all_u.obj')\n",
    "    \n",
    "    dic={}\n",
    "    for i in data.keys():\n",
    "        _, X_t, Y, Z = i.split(\"-\")\n",
    "        Z = Z.split(\".\")[0]\n",
    "        \n",
    "        if X_t == X:\n",
    "            if Y in dic.keys():\n",
    "                dic[Y].append(data[i])\n",
    "            else:\n",
    "                dic[Y] = [data[i]]\n",
    "          \n",
    "    fin = {}\n",
    "    for j in dic.keys():\n",
    "        temp=[]\n",
    "        for kj in dic[j]:\n",
    "            if FM == \"CM\" :\n",
    "                temp.append(calculate_CM(kj).flatten())\n",
    "            elif FM == 'ELBP':\n",
    "                temp.append(calculate_LBP(kj))\n",
    "            elif FM == 'HOG':\n",
    "                temp.append(calculate_HOG(kj).flatten())\n",
    "        fin[j] = np.array(temp).mean(axis=0)\n",
    "    return fin"
   ]
  },
  {
   "cell_type": "code",
   "execution_count": 24,
   "id": "3edbdb61",
   "metadata": {},
   "outputs": [
    {
     "data": {
      "text/plain": [
       "'# This code creates an object which needs to be created only once\\n\\nobj_path = \\'C:\\\\Users\\\\hp\\\\OneDrive\\\\Desktop\\\\saved_obj\\\\\\'\\nimg_path = \\'C:\\\\Users\\\\hp\\\\OneDrive\\\\Desktop\\\\all\\\\\\'\\n\\nos.chdir(img_path)\\nimg_file = os.listdir()\\n\\ndata = {}\\nfor im in img_file:  \\n    \\n    if not(im.endswith(\".png\")):\\n        img_file.remove(im)\\n        continue\\n        \\n    img = image.load_img(im, target_size =(64, 64), color_mode=\\'grayscale\\' )\\n    img = image.img_to_array(img).reshape((64,64))\\n    img = img/255.0\\n    \\n    _, X, Y_t, Z = im.split(\"-\")\\n    Z = Z.split(\".\")[0]\\n    if Z != \\'10\\':\\n        data[im] = img\\n        \\n\\nos.chdir(obj_path)\\nsave_obj(data, \\'image_data_all_u.obj\\')'"
      ]
     },
     "execution_count": 24,
     "metadata": {},
     "output_type": "execute_result"
    }
   ],
   "source": [
    "\"\"\"# This code creates an object which needs to be created only once\n",
    "\n",
    "obj_path = 'C:\\\\Users\\\\hp\\\\OneDrive\\\\Desktop\\\\saved_obj\\\\'\n",
    "img_path = 'C:\\\\Users\\\\hp\\\\OneDrive\\\\Desktop\\\\all\\\\'\n",
    "\n",
    "os.chdir(img_path)\n",
    "img_file = os.listdir()\n",
    "\n",
    "data = {}\n",
    "for im in img_file:  \n",
    "    \n",
    "    if not(im.endswith(\".png\")):\n",
    "        img_file.remove(im)\n",
    "        continue\n",
    "        \n",
    "    img = image.load_img(im, target_size =(64, 64), color_mode='grayscale' )\n",
    "    img = image.img_to_array(img).reshape((64,64))\n",
    "    img = img/255.0\n",
    "    \n",
    "    _, X, Y_t, Z = im.split(\"-\")\n",
    "    Z = Z.split(\".\")[0]\n",
    "    if Z != '10':\n",
    "        data[im] = img\n",
    "        \n",
    "\n",
    "os.chdir(obj_path)\n",
    "save_obj(data, 'image_data_all_u.obj')\"\"\""
   ]
  },
  {
   "cell_type": "code",
   "execution_count": 25,
   "id": "116608b6",
   "metadata": {},
   "outputs": [],
   "source": [
    "obj_path = 'C:\\\\Users\\\\hp\\\\OneDrive\\\\Desktop\\\\saved_obj\\\\'\n",
    "img_path = 'C:\\\\Users\\\\hp\\\\OneDrive\\\\Desktop\\\\all\\\\'"
   ]
  },
  {
   "cell_type": "markdown",
   "id": "fd4d008e",
   "metadata": {},
   "source": [
    "### Original Data Distribution"
   ]
  },
  {
   "cell_type": "code",
   "execution_count": 26,
   "id": "73524c13",
   "metadata": {},
   "outputs": [
    {
     "name": "stdout",
     "output_type": "stream",
     "text": [
      "Distribution of types:\n",
      " {'cc': 399, 'con': 399, 'emboss': 398, 'jitter': 399, 'neg': 399, 'noise01': 399, 'noise02': 399, 'original': 399, 'poster': 399, 'rot': 399, 'smooth': 399, 'stipple': 399}\n",
      "\n",
      "Total Images: 4787\n"
     ]
    }
   ],
   "source": [
    "obj_path = 'C:\\\\Users\\\\hp\\\\OneDrive\\\\Desktop\\\\saved_obj\\\\'\n",
    "\n",
    "os.chdir(obj_path)\n",
    "data = retrieve_obj('image_data_all.obj')\n",
    "    \n",
    "dic={}\n",
    "for i in data:\n",
    "    _, X, Y_t, Z = i.split(\"-\")\n",
    "    Z = Z.split(\".\")[0]\n",
    "    if X in dic.keys():\n",
    "        dic[X]+=1\n",
    "    else:\n",
    "        dic[X]=1\n",
    "    \n",
    "print(\"Distribution of types:\\n\",dic)\n",
    "\n",
    "print(\"\\nTotal Images:\", sum(dic.values()))"
   ]
  },
  {
   "cell_type": "markdown",
   "id": "b266c67c",
   "metadata": {},
   "source": [
    "### New Data distribution"
   ]
  },
  {
   "cell_type": "code",
   "execution_count": 27,
   "id": "9f324221",
   "metadata": {
    "scrolled": true
   },
   "outputs": [
    {
     "name": "stdout",
     "output_type": "stream",
     "text": [
      "Distribution of types:\n",
      " {'cc': 360, 'con': 360, 'emboss': 360, 'jitter': 360, 'neg': 360, 'noise01': 360, 'noise02': 360, 'original': 360, 'poster': 360, 'rot': 360, 'smooth': 360, 'stipple': 360}\n",
      "\n",
      "Total Images: 4320\n"
     ]
    }
   ],
   "source": [
    "obj_path = 'C:\\\\Users\\\\hp\\\\OneDrive\\\\Desktop\\\\saved_obj\\\\'\n",
    "\n",
    "os.chdir(obj_path)\n",
    "data = retrieve_obj('image_data_all_u.obj')\n",
    "    \n",
    "dic={}\n",
    "for i in data:\n",
    "    _, X, Y_t, Z = i.split(\"-\")\n",
    "    if X in dic.keys():\n",
    "        dic[X]+=1\n",
    "    else:\n",
    "        dic[X]=1\n",
    "        \n",
    "print(\"Distribution of types:\\n\",dic)\n",
    "print(\"\\nTotal Images:\", sum(dic.values()))"
   ]
  },
  {
   "cell_type": "markdown",
   "id": "dc9254a5",
   "metadata": {},
   "source": [
    "# Task 1: \n",
    "\n",
    "Implement a program which \n",
    "\n",
    "(a) given one of the three feature models, \n",
    "\n",
    "(b) a user specified value of X, \n",
    "\n",
    "(c) a user specified value of k, \n",
    "\n",
    "(d) one of the four dimensionality reduction techniques (PCA, SVD, LDA, k-means) chosen by the user, \n",
    "\n",
    "reports the top-k latent semantics extracted using images of this type. Each latent semantic should be presented in\n",
    "the form of a list of subject-weight pairs, ordered in decreasing order of weights. Store the latent semantics in a properly\n",
    "labeled output file."
   ]
  },
  {
   "cell_type": "code",
   "execution_count": 28,
   "id": "e63b6b59",
   "metadata": {},
   "outputs": [],
   "source": [
    "def task1(FM, X, k, DR):\n",
    "    arr = feature_extract_t1(FM, X)\n",
    "    ans = reduce_dims(np.array(list(arr.values())), k, DR)   \n",
    "    LS_dic = LS_extract(ans[0].T)\n",
    "            \n",
    "    os.chdir(obj_path)\n",
    "    nm = 'T1-LS' + '-' + FM + '-' + X + '-' + str(k) + '-' + DR + '.txt'\n",
    "    create_LS(nm, LS_dic)\n",
    "    \n",
    "    return ans"
   ]
  },
  {
   "cell_type": "code",
   "execution_count": 32,
   "id": "66202980",
   "metadata": {},
   "outputs": [
    {
     "name": "stdout",
     "output_type": "stream",
     "text": [
      "Enter a feature model - CM, ELBP, HOG :CM\n",
      "Enter a value of X:cc\n",
      "Enter a value of k:25\n",
      "Enter a dimentionality reduction technique - PCA, LDA, SVD, kmeans:kmeans\n",
      "\n",
      "Latent Semantic file created :  T1-LS-CM-cc-25-kmeans.txt\n"
     ]
    }
   ],
   "source": [
    "FM = input(\"Enter a feature model - CM, ELBP, HOG :\")\n",
    "X = input(\"Enter a value of X:\")\n",
    "k = int(input(\"Enter a value of k:\"))\n",
    "DR = input(\"Enter a dimentionality reduction technique - PCA, LDA, SVD, kmeans:\")\n",
    "\n",
    "ans = task1(FM, X, k, DR)"
   ]
  },
  {
   "cell_type": "code",
   "execution_count": 34,
   "id": "a98b9eaa",
   "metadata": {},
   "outputs": [
    {
     "name": "stdout",
     "output_type": "stream",
     "text": [
      "(40, 25)\n"
     ]
    }
   ],
   "source": [
    "print(ans[0].shape)"
   ]
  },
  {
   "cell_type": "markdown",
   "id": "71d46d7d",
   "metadata": {},
   "source": [
    "# Task 2: \n",
    "Implement a program which \n",
    "\n",
    "(a) given one of the three feature models, \n",
    "\n",
    "(b) a user specified value of Y , \n",
    "\n",
    "(c) a user specified value of k, \n",
    "\n",
    "(d) one of the three dimensionality reduction techniques (PCA, SVD, LDA,k-means) chosen by the user, \n",
    "\n",
    "reports the top-k latent semantics extracted using images of this subject. Each latent semantic should be presented\n",
    "in the form of a list of type-weight pairs, ordered in decreasing order of weights. Store the latent semantics in a properly\n",
    "labeled output file."
   ]
  },
  {
   "cell_type": "code",
   "execution_count": 35,
   "id": "dd79d546",
   "metadata": {},
   "outputs": [],
   "source": [
    "def task2(FM, Y, k, DR):\n",
    "    arr = feature_extract_t2(FM, Y)\n",
    "    ans = reduce_dims(np.array(list(arr.values())), k, DR)    \n",
    "    LS_dic = LS_extract(ans[0].T)\n",
    "    \n",
    "    os.chdir(obj_path)\n",
    "    nm = 'T2-LS' + '-' + FM + '-' + Y + '-' + str(k) + '-' + DR + '.txt'\n",
    "    create_LS(nm, LS_dic)\n",
    "    return ans"
   ]
  },
  {
   "cell_type": "code",
   "execution_count": 42,
   "id": "855f467b",
   "metadata": {},
   "outputs": [
    {
     "name": "stdout",
     "output_type": "stream",
     "text": [
      "Enter a feature model - CM, ELBP, HOG :CM\n",
      "Enter a value of Y:35\n",
      "Enter a value of k:10\n",
      "Enter a dimentionality reduction technique - PCA, LDA, SVD, k-means:kmeans\n",
      "\n",
      "Latent Semantic file created :  T2-LS-CM-35-10-kmeans.txt\n"
     ]
    }
   ],
   "source": [
    "FM = input(\"Enter a feature model - CM, ELBP, HOG :\")\n",
    "Y = input(\"Enter a value of Y:\")\n",
    "k = int(input(\"Enter a value of k:\"))\n",
    "DR = input(\"Enter a dimentionality reduction technique - PCA, LDA, SVD, k-means:\")\n",
    "\n",
    "ans = task2(FM, Y, k, DR)"
   ]
  },
  {
   "cell_type": "code",
   "execution_count": 41,
   "id": "30712284",
   "metadata": {},
   "outputs": [
    {
     "name": "stdout",
     "output_type": "stream",
     "text": [
      "(12, 10) (10, 1764)\n"
     ]
    }
   ],
   "source": [
    "print(ans[0].shape, ans[1].shape)"
   ]
  },
  {
   "cell_type": "markdown",
   "id": "c3e4af18",
   "metadata": {},
   "source": [
    "### Task 3: \n",
    "Implement a program which, \n",
    "\n",
    "(a) given one of the three feature models and \n",
    "\n",
    "(b) a value k,\n",
    "\n",
    "– creates (and saves) a type-type similarity matrix,\n",
    "\n",
    "– performs a user selected dimensionality reduction technique (PCA, SVD, LDA,k-means) on this type-type similarity\n",
    "matrix, and\n",
    "\n",
    "– reports the top-k latent semantics.\n",
    "\n",
    "Each latent semantic should be presented in the form of a list of type-weight pairs, ordered in decreasing order of weights.\n",
    "Store the latent semantics in a properly labeled output file."
   ]
  },
  {
   "cell_type": "code",
   "execution_count": 43,
   "id": "6b50cf11",
   "metadata": {},
   "outputs": [],
   "source": [
    "def task3(FM, k, DR):\n",
    "    \n",
    "    tt_fm = retrieve_obj('type_type_'+FM+'.obj')\n",
    "    tt=[]\n",
    "    for i in tt_fm.values():\n",
    "        b=[]\n",
    "        for j in tt_fm.values():\n",
    "            b.append(abs(sum(np.array(i) - np.array(j))))\n",
    "        tt.append(b)\n",
    "    \n",
    "    type_type = np.array(tt)\n",
    "    ans = reduce_dims(type_type, k, DR)\n",
    "    ans = np.array(ans, dtype=object)\n",
    "    \n",
    "    LS_dic = LS_extract(ans[0].T)\n",
    "    \n",
    "    os.chdir(obj_path)\n",
    "    nm = 'T3-LS' + '-' + FM + '-' + str(k) + '-' + DR + '.txt'\n",
    "    create_LS(nm, LS_dic)\n",
    "    \n",
    "    return type_type, ans"
   ]
  },
  {
   "cell_type": "code",
   "execution_count": 47,
   "id": "62d6c7c7",
   "metadata": {},
   "outputs": [
    {
     "name": "stdout",
     "output_type": "stream",
     "text": [
      "Enter a feature model - CM, ELBP, HOG :CM\n",
      "Enter a value of k:10\n",
      "Enter a dimentionality reduction technique - PCA, LDA, SVD, k-means:kmeans\n",
      "\n",
      "Latent Semantic file created :  T3-LS-CM-10-kmeans.txt\n"
     ]
    }
   ],
   "source": [
    "FM = input(\"Enter a feature model - CM, ELBP, HOG :\")\n",
    "k = int(input(\"Enter a value of k:\"))\n",
    "DR = input(\"Enter a dimentionality reduction technique - PCA, LDA, SVD, k-means:\")\n",
    "\n",
    "type_type, top_k_LS = task3(FM, k, DR)"
   ]
  },
  {
   "cell_type": "code",
   "execution_count": null,
   "id": "3ae52b35",
   "metadata": {},
   "outputs": [],
   "source": []
  },
  {
   "cell_type": "code",
   "execution_count": 48,
   "id": "26ff8883",
   "metadata": {},
   "outputs": [
    {
     "data": {
      "image/png": "[encoded data removed]",
      "text/plain": [
       "<Figure size 432x288 with 2 Axes>"
      ]
     },
     "metadata": {
      "needs_background": "light"
     },
     "output_type": "display_data"
    }
   ],
   "source": [
    "ax = sns.heatmap(\n",
    "    pd.DataFrame(type_type), \n",
    "    #vmin=-100, vmax=100, center=0,\n",
    "    cmap=sns.diverging_palette(25, 200, n=2000),\n",
    "    square=True\n",
    ")\n",
    "ax.set_xticklabels(\n",
    "    ax.get_xticklabels(),\n",
    "    rotation=45,\n",
    "    horizontalalignment='right'\n",
    ");"
   ]
  },
  {
   "cell_type": "markdown",
   "id": "f4e7d920",
   "metadata": {},
   "source": [
    "### Task 4: \n",
    "Implement a program which, (a) given one of the three feature models and (b) a value k,\n",
    "\n",
    "– creates (and saves) a subject-subject similarity matrix,\n",
    "\n",
    "– performs a user selected dimensionality reduction technique (PCA, SVD, LDA,k-means) on this subject-subject\n",
    "similarity matrix, and\n",
    "\n",
    "– reports the top-k latent semantics.\n",
    "\n",
    "Each latent semantic should be presented in the form of a list of subject-weight pairs, ordered in decreasing order of\n",
    "weights. Store the latent semantics in a properly labeled output file."
   ]
  },
  {
   "cell_type": "code",
   "execution_count": 49,
   "id": "67be15f1",
   "metadata": {},
   "outputs": [],
   "source": [
    "def task4(FM, k, DR):\n",
    "\n",
    "    ss_cm = retrieve_obj('sub_sub_'+FM+'.obj')\n",
    "    ss=[]\n",
    "    for i in ss_cm.values():\n",
    "        b=[]\n",
    "        for j in ss_cm.values():\n",
    "            b.append(abs(sum(np.array(i) - np.array(j))))\n",
    "        ss.append(b)\n",
    "\n",
    "    sub_sub = np.array(ss)\n",
    "    ans = reduce_dims(sub_sub, k, DR)\n",
    "    ans = np.array(ans, dtype=object)\n",
    "    \n",
    "    LS_dic = LS_extract(ans[0].T)\n",
    "    \n",
    "    os.chdir(obj_path)\n",
    "    nm = 'T4-LS' + '-' + FM + '-' + str(k) + '-' + DR + '.txt'\n",
    "    create_LS(nm, LS_dic)\n",
    "    \n",
    "    return sub_sub, ans"
   ]
  },
  {
   "cell_type": "code",
   "execution_count": 53,
   "id": "3ecb7f15",
   "metadata": {},
   "outputs": [
    {
     "name": "stdout",
     "output_type": "stream",
     "text": [
      "Enter a feature model - CM, ELBP, HOG :CM\n",
      "Enter a value of k:5\n",
      "Enter a dimentionality reduction technique - PCA, LDA, SVD, kmeans:kmeans\n",
      "\n",
      "Latent Semantic file created :  T4-LS-CM-5-kmeans.txt\n"
     ]
    }
   ],
   "source": [
    "FM = input(\"Enter a feature model - CM, ELBP, HOG :\")\n",
    "k = int(input(\"Enter a value of k:\"))\n",
    "DR = input(\"Enter a dimentionality reduction technique - PCA, LDA, SVD, kmeans:\")\n",
    "\n",
    "sub_sub, top_k_LS = task4(FM, k, DR)"
   ]
  },
  {
   "cell_type": "code",
   "execution_count": 54,
   "id": "e2ba82c2",
   "metadata": {},
   "outputs": [
    {
     "data": {
      "image/png": "[encoded data removed]",
      "text/plain": [
       "<Figure size 1440x1440 with 2 Axes>"
      ]
     },
     "metadata": {
      "needs_background": "light"
     },
     "output_type": "display_data"
    }
   ],
   "source": [
    "plt.figure(figsize=(20,20))\n",
    "\n",
    "ax = sns.heatmap(\n",
    "    pd.DataFrame(sub_sub), \n",
    "    #vmin=-1000, vmax=1000, center=0,\n",
    "    cmap=sns.diverging_palette(20, 220, n=1000),\n",
    "    square=True\n",
    ")\n",
    "ax.set_xticklabels(\n",
    "    ax.get_xticklabels(),\n",
    "    rotation=45,\n",
    "    horizontalalignment='right'\n",
    ");"
   ]
  },
  {
   "cell_type": "markdown",
   "id": "5dc984f5",
   "metadata": {},
   "source": [
    "### Task 5:\n",
    "\n",
    "Implement a program which, given the filename of a query image which may not be in the database and a latent\n",
    "semantics file, identifies and visualizes the most similar n images under the selected latent semantics."
   ]
  },
  {
   "cell_type": "code",
   "execution_count": 203,
   "id": "418466bc",
   "metadata": {},
   "outputs": [],
   "source": [
    "def task5(query_image, FM, DR, k, n):\n",
    "     \n",
    "    os.chdir(img_path)\n",
    "    img = image.load_img(img_nm, target_size =(64, 64), color_mode='grayscale' )\n",
    "    img = image.img_to_array(img).reshape((64,64))\n",
    "    query_image = img/255.0\n",
    "    \n",
    "    query_feature = extract_feature(query_image, FM)\n",
    "    query_feature=query_feature.reshape(1,-1)\n",
    "    \n",
    "    os.chdir(obj_path)\n",
    "    temp = 'all_data_feature_'+FM+'.obj'\n",
    "    db_feature=retrieve_obj(temp)\n",
    "    \n",
    "    image_names=list(db_feature.keys())\n",
    "    db_feature_array=np.array(list(db_feature.values()))\n",
    "    db_feature_array=np.append(db_feature_array, query_feature,axis=0)\n",
    "    ans=reduce_dims(db_feature_array,k,DR)\n",
    "    \n",
    "    LS=ans[0]\n",
    "    LS_query=LS[-1]\n",
    "    LS_dist={}\n",
    "    image_names.append('query_image')\n",
    "    \n",
    "    for key, i in zip(image_names, LS):\n",
    "        LS_dist[key] = euclidean(LS_query, i)\n",
    "    \n",
    "    sorted_values = (sorted(LS_dist.values())) # Sort the values\n",
    "    sorted_dict = {}\n",
    "\n",
    "    for j in range(len(sorted_values)):\n",
    "        for k in LS_dist.keys():\n",
    "            if LS_dist[k] == sorted_values[j]:\n",
    "                sorted_dict[k] = LS_dist[k]\n",
    "                break           \n",
    "    lis=list(sorted_dict.keys())[:n]\n",
    "    \n",
    "    return lis"
   ]
  },
  {
   "cell_type": "code",
   "execution_count": 204,
   "id": "89242b01",
   "metadata": {},
   "outputs": [
    {
     "data": {
      "text/plain": [
       "['image-original-1-1.png',\n",
       " 'image-poster-1-1.png',\n",
       " 'image-original-1-3.png',\n",
       " 'image-original-16-3.png',\n",
       " 'image-poster-1-3.png',\n",
       " 'image-original-16-2.png',\n",
       " 'image-original-1-7.png',\n",
       " 'image-original-24-2.png',\n",
       " 'image-poster-16-3.png',\n",
       " 'image-poster-16-2.png']"
      ]
     },
     "execution_count": 204,
     "metadata": {},
     "output_type": "execute_result"
    }
   ],
   "source": [
    "query_image = input(\"Enter name of input image : \")\n",
    "FM = input(\"Enter a feature model - CM, ELBP, HOG :\")\n",
    "k = int(input(\"Enter a value of k:\"))\n",
    "DR = input(\"Enter a dimentionality reduction technique - PCA, LDA, SVD, kmeans:\")\n",
    "n = int(input(\"Enter value of n:\"))\n",
    "\n",
    "#task5(query_image='image-cc-5-3.png', FM='CM', DR='PCA', k=50, n=10)\n",
    "task5(query_image, FM, DR, k, n)"
   ]
  },
  {
   "cell_type": "code",
   "execution_count": null,
   "id": "cfc1e88a",
   "metadata": {},
   "outputs": [],
   "source": []
  },
  {
   "cell_type": "markdown",
   "id": "1f97141b",
   "metadata": {},
   "source": [
    "### Task 6:\n",
    "\n",
    "Implement a program which, given the filename of a query image which may not be in the database and a latent\n",
    "semantics file, associates a type label (X) to the image under the selected latent semantics."
   ]
  },
  {
   "cell_type": "code",
   "execution_count": 86,
   "id": "a2122bd4",
   "metadata": {},
   "outputs": [],
   "source": [
    "def task6(img_name, FM, k, DR, Y):\n",
    "\n",
    "    os.chdir(obj_path)\n",
    "    arr = feature_extract_t6(FM, Y)\n",
    "    ans = reduce_dims(np.array(list(arr.values())), k, DR)\n",
    "\n",
    "    os.chdir(img_path)\n",
    "    img = image.load_img(img_name, target_size =(64, 64), color_mode='grayscale' )\n",
    "    img = image.img_to_array(img).reshape((64,64))\n",
    "    img = img/255.0\n",
    "\n",
    "    feaVec = extract_feature(img, model=FM)\n",
    "    fv = np.dot(ans[1], feaVec)\n",
    "\n",
    "    dis={}\n",
    "    for i in range(len(ans[0])):\n",
    "        dis[i] = euclidean(ans[0][i], fv)\n",
    "        \n",
    "    sorted_values = (sorted(dis.values())) # Sort the values\n",
    "    sorted_dict = {}\n",
    "\n",
    "    for j in range(len(sorted_values)):\n",
    "        for k in dis.keys():\n",
    "            if dis[k] == sorted_values[j]:\n",
    "                sorted_dict[k] = dis[k]\n",
    "                break\n",
    "        \n",
    "    return sorted_dict"
   ]
  },
  {
   "cell_type": "code",
   "execution_count": 87,
   "id": "2a6befe7",
   "metadata": {
    "scrolled": false
   },
   "outputs": [
    {
     "name": "stdout",
     "output_type": "stream",
     "text": [
      "Enter name of input image : image-cc-1-1.png\n",
      "Enter a feature model - CM, ELBP, HOG :CM\n",
      "Enter a value of k:5\n",
      "Enter a dimentionality reduction technique - PCA, LDA, SVD, kmeans:PCA\n",
      "Enter value of Y:5\n",
      "{2: 497.78932703700076, 0: 551.7037140614211, 1: 552.8894284161947, 11: 552.915079294854, 7: 553.7580413823306, 8: 553.8267072705331, 9: 553.9112187699955, 4: 556.0884371229738, 10: 767.6228174790386, 3: 783.7102587481892, 5: 793.2354617639269, 6: 1035.3338241340314}\n"
     ]
    }
   ],
   "source": [
    "img_name = input(\"Enter name of input image : \")\n",
    "FM = input(\"Enter a feature model - CM, ELBP, HOG :\")\n",
    "k = int(input(\"Enter a value of k:\"))\n",
    "DR = input(\"Enter a dimentionality reduction technique - PCA, LDA, SVD, kmeans:\")\n",
    "Y = input(\"Enter value of Y:\")\n",
    "\n",
    "a = task6(img_name, FM, k, DR, Y)\n",
    "#a = task6('image-cc-1-1.png', 'CM', 15, 'PCA', '5')\n",
    "print(a)"
   ]
  },
  {
   "cell_type": "markdown",
   "id": "5c0588d5",
   "metadata": {},
   "source": [
    "### Task 7:\n",
    "\n",
    "Implement a program which, given the filename of a query image which may not be in the database and a latent\n",
    "semantics file, associates a subject ID (Y ) to the image under the selected latent semantics."
   ]
  },
  {
   "cell_type": "code",
   "execution_count": 84,
   "id": "ef0f2d1f",
   "metadata": {},
   "outputs": [],
   "source": [
    "def task7(img_name, FM, k, DR, X):\n",
    "\n",
    "    os.chdir(obj_path)\n",
    "    arr = feature_extract_t7(FM, X)\n",
    "    ans = reduce_dims(np.array(list(arr.values())), k, DR)\n",
    "    \n",
    "    os.chdir(img_path)\n",
    "    img = image.load_img(img_name, target_size =(64, 64), color_mode='grayscale' )\n",
    "    img = image.img_to_array(img).reshape((64,64))\n",
    "    img = img/255.0\n",
    "\n",
    "    feaVec = extract_feature(img, model=FM)\n",
    "    fv = np.dot(ans[1], feaVec)\n",
    "\n",
    "    dis={}\n",
    "    for i in range(len(ans[0])):\n",
    "        dis[i] = euclidean(ans[0][i], fv)\n",
    "        \n",
    "    sorted_values = (sorted(dis.values())) # Sort the values\n",
    "    sorted_dict = {}\n",
    "\n",
    "    for j in range(len(sorted_values)):\n",
    "        for k in dis.keys():\n",
    "            if dis[k] == sorted_values[j]:\n",
    "                sorted_dict[k] = dis[k]\n",
    "                break\n",
    "        \n",
    "    return sorted_dict"
   ]
  },
  {
   "cell_type": "code",
   "execution_count": 62,
   "id": "8ba516a4",
   "metadata": {},
   "outputs": [
    {
     "name": "stdout",
     "output_type": "stream",
     "text": [
      "Enter name of input image : image-cc-1-1.png\n",
      "Enter a feature model - CM, ELBP, HOG :CM\n",
      "Enter a value of k:5\n",
      "Enter a dimentionality reduction technique - PCA, LDA, SVD, kmeans:PCA\n",
      "Enter value of X:cc\n",
      "{0: 7.243229396261195, 29: 7.953443267497938, 6: 8.009671435494896, 16: 8.127719057418789, 23: 8.187269963477144, 8: 8.341904970923656, 7: 8.471454651563617, 24: 8.535341543708515, 25: 8.540858788417394, 11: 8.603681150289278, 21: 8.611537412279391, 36: 8.67727819884319, 4: 8.744764337304234, 12: 8.767334990137861, 37: 8.777124196797814, 27: 8.841988906921594, 5: 8.861054314555403, 28: 8.90687593840057, 9: 9.093493011209887, 14: 9.108770511220584, 35: 9.158433890302309, 32: 9.172829660982792, 2: 9.285239180852278, 33: 9.357627867697028, 34: 9.387617869118754, 15: 9.527862776060738, 19: 9.566644730318488, 30: 9.710175228415574, 13: 9.756296454102324, 18: 9.78855812921902, 1: 9.827036044030093, 20: 10.048287900177044, 22: 10.10573891334039, 31: 10.18225741994442, 10: 10.244799826058504, 38: 10.262898536311514, 26: 10.42455232732713, 3: 10.431326152370133, 17: 10.730413576794536, 39: 11.092864945864866}\n"
     ]
    }
   ],
   "source": [
    "img_name = input(\"Enter name of input image : \")\n",
    "FM = input(\"Enter a feature model - CM, ELBP, HOG :\")\n",
    "k = int(input(\"Enter a value of k:\"))\n",
    "DR = input(\"Enter a dimentionality reduction technique - PCA, LDA, SVD, kmeans:\")\n",
    "X = input(\"Enter value of X:\")\n",
    "\n",
    "a = task7(img_name, FM, k, DR, X)\n",
    "#a = task7('image-cc-10-1.png', 'CM', 15, 'PCA', 'cc')\n",
    "print(a)"
   ]
  },
  {
   "cell_type": "code",
   "execution_count": null,
   "id": "5f0cc983",
   "metadata": {},
   "outputs": [],
   "source": []
  },
  {
   "cell_type": "markdown",
   "id": "c8b84a21",
   "metadata": {},
   "source": [
    "### Task 8:\n",
    "\n",
    "Implement a program which \n",
    "\n",
    "(a) given a subject-subject similarity matrix, \n",
    "\n",
    "(b) a value n, and \n",
    "\n",
    "(c) a value m,\n",
    "\n",
    "– creates a similarity graph, G(V, E), where V corresponds to the subjects in the database and E contains node pairs\n",
    "vi, vj such that, for each subject vi, vj is one of the n most similar subjects in the database\n",
    "\n",
    "– identifies the most significant m subjects in the collection using ASCOS++ measure."
   ]
  },
  {
   "cell_type": "code",
   "execution_count": 81,
   "id": "8a88e143",
   "metadata": {},
   "outputs": [],
   "source": [
    "def task8(FM, n, m):\n",
    "    \n",
    "    transition_mat = compute_sub_sub(FM)\n",
    "    \n",
    "    #Setting jump factor to 0.85\n",
    "    jumpFactor = 0.85\n",
    "\n",
    "    #Initialization of seeds and distance matrices\n",
    "    seeds = np.zeros((40, 1))\n",
    "    dist = np.zeros(40)\n",
    "\n",
    "    #Result matrix\n",
    "    ans = []\n",
    "\n",
    "    #Setting the probabilty to 1/40 for the given subject Ids\n",
    "    for i in range(40):\n",
    "        seeds[i] = 1/40\n",
    "\n",
    "    #Computing the rankings of the nodes using PPR algorithm\n",
    "    rankings = np.dot((np.identity(40) - (1-jumpFactor) * transition_mat), jumpFactor * seeds)\n",
    "    rankings = rankings.reshape(40)\n",
    "    \n",
    "    for i, _ in enumerate(rankings):\n",
    "        if i+1 not in seeds:\n",
    "            dist[i] = rankings[i] / (1-jumpFactor)\n",
    "        else:\n",
    "            dist[i] = (rankings[i] - (jumpFactor / 40)) / (1-jumpFactor)\n",
    "\n",
    "    \n",
    "    for _, r in enumerate(dist):\n",
    "        ans.append((_+1, r))\n",
    "\n",
    "    #Returning the most significant m subjects\n",
    "    return [i[0] for i in sorted(ans, reverse=True, key=lambda x: x[1])[:m]]"
   ]
  },
  {
   "cell_type": "code",
   "execution_count": 82,
   "id": "bbe53d2c",
   "metadata": {},
   "outputs": [
    {
     "name": "stdout",
     "output_type": "stream",
     "text": [
      "Enter a feature model - CM, ELBP, HOG :CM\n",
      "Enter the value of n:5\n",
      "Enter the value of m:5\n"
     ]
    }
   ],
   "source": [
    "FM = input(\"Enter a feature model - CM, ELBP, HOG :\")\n",
    "n = int(input(\"Enter the value of n:\"))\n",
    "m = int(input(\"Enter the value of m:\"))\n",
    "\n",
    "top_m = task8(FM, n, m)"
   ]
  },
  {
   "cell_type": "code",
   "execution_count": 83,
   "id": "dba87c50",
   "metadata": {},
   "outputs": [
    {
     "name": "stdout",
     "output_type": "stream",
     "text": [
      "[20, 38, 2, 18, 35]\n"
     ]
    }
   ],
   "source": [
    "print(top_m)"
   ]
  },
  {
   "cell_type": "markdown",
   "id": "0de93261",
   "metadata": {},
   "source": [
    "### Task 9:\n",
    "\n",
    "Implement a program which \n",
    "\n",
    "(a) given a subject-subject similarity matrix, \n",
    "\n",
    "(b) a value n, \n",
    "\n",
    "(c) a value m, \n",
    "\n",
    "and three subject IDs\n",
    "\n",
    "– creates a similarity graph, G(V, E), where V corresponds to the subjects in the database and E contains node pairs\n",
    "vi, vj such that, for each subject vi, vj is one of the n most similar subjects in the database\n",
    "\n",
    "– identifies the most significant m subjects (relative to the input subjects) using personalized PageRank measure."
   ]
  },
  {
   "cell_type": "code",
   "execution_count": 70,
   "id": "70ef5cc0",
   "metadata": {},
   "outputs": [],
   "source": [
    "def task9(FM, n, m, s):\n",
    "    \n",
    "    transition_mat = compute_sub_sub(FM)\n",
    "    \n",
    "    #Setting jump factor to 0.85\n",
    "    jumpFactor = 0.85\n",
    "\n",
    "    #Initialization of seeds and distance matrices\n",
    "    seeds = np.zeros((40, 1))\n",
    "    dist = np.zeros(40)\n",
    "\n",
    "    #Result matrix\n",
    "    ans = []\n",
    "\n",
    "    #Setting the probabilty to 1/40 for the given subject Ids\n",
    "    for seed in s:\n",
    "        seeds[seed-1] = 1/40\n",
    "\n",
    "    #Computing the rankings of the nodes using PPR algorithm\n",
    "    rankings = np.dot((np.identity(40) - (1-jumpFactor) * transition_mat), jumpFactor * seeds)\n",
    "    rankings = rankings.reshape(40)\n",
    "    \n",
    "    for i, _ in enumerate(rankings):\n",
    "        if i+1 not in s:\n",
    "            dist[i] = rankings[i] / (1-jumpFactor)\n",
    "        else:\n",
    "            dist[i] = (rankings[i] - (jumpFactor / 40)) / (1-jumpFactor)\n",
    "\n",
    "    \n",
    "    for _, r in enumerate(dist):\n",
    "        ans.append((_+1, r))\n",
    "\n",
    "    #Returning the most significant m subjects\n",
    "    return [i[0] for i in sorted(ans, reverse=True, key=lambda x: x[1])[:m]]"
   ]
  },
  {
   "cell_type": "code",
   "execution_count": 73,
   "id": "3a4f1a6c",
   "metadata": {},
   "outputs": [
    {
     "name": "stdout",
     "output_type": "stream",
     "text": [
      "Enter a feature model - CM, ELBP, HOG :CM\n",
      "Enter the value of n:10\n",
      "Enter the value of m:9\n"
     ]
    }
   ],
   "source": [
    "FM = input(\"Enter a feature model - CM, ELBP, HOG :\")\n",
    "n = int(input(\"Enter the value of n:\"))\n",
    "m = int(input(\"Enter the value of m:\"))\n",
    "\n",
    "top_m = task9(FM, n, m, s=[1, 2, 30])"
   ]
  },
  {
   "cell_type": "code",
   "execution_count": 75,
   "id": "4b0765b7",
   "metadata": {},
   "outputs": [
    {
     "data": {
      "text/plain": [
       "[2, 30, 9, 12, 15, 17, 18, 19, 22]"
      ]
     },
     "execution_count": 75,
     "metadata": {},
     "output_type": "execute_result"
    }
   ],
   "source": [
    "top_m"
   ]
  },
  {
   "cell_type": "code",
   "execution_count": null,
   "id": "475e9024",
   "metadata": {},
   "outputs": [],
   "source": []
  }
 ],
 "metadata": {
  "kernelspec": {
   "display_name": "Python 3 (ipykernel)",
   "language": "python",
   "name": "python3"
  },
  "language_info": {
   "codemirror_mode": {
    "name": "ipython",
    "version": 3
   },
   "file_extension": ".py",
   "mimetype": "text/x-python",
   "name": "python",
   "nbconvert_exporter": "python",
   "pygments_lexer": "ipython3",
   "version": "3.9.7"
  }
 },
 "nbformat": 4,
 "nbformat_minor": 5
}
